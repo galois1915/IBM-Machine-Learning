{
 "cells": [
  {
   "cell_type": "code",
   "execution_count": null,
   "metadata": {},
   "outputs": [],
   "source": []
  },
  {
   "cell_type": "markdown",
   "metadata": {},
   "source": [
    "# Cosine similarity"
   ]
  },
  {
   "cell_type": "code",
   "execution_count": null,
   "metadata": {},
   "outputs": [],
   "source": [
    "Import numpy as np\n",
    "and import pandas as pd\n",
    "from sklearn. metrics.pairwise import cosine_similarity\n",
    "# Define the documents and their contents\n",
    "documents = {\n",
    "    ‘Document 1’: “Political unrest leads to protests.”\n",
    "    ‘Document 2’: “New technology breakthrough announced.”\n",
    "    ‘Document 3’: “Team wins championship in a thrilling sports event.”\n",
    "    ‘Document 4’: “Popular actor’s new movie release.”\n",
    "    ‘Document 5’: “Stock market experiences sharp rise.”\n",
    "}\n",
    "# Create vocabulary from the documents\n",
    "vocabulary = set()\n",
    "for doc_content in documents.values():\n",
    "    vocabulary.update(doc_content.lower().split())\n",
    "# Create BoW vectors for each document\n",
    "bow_vectors = []\n",
    "for doc_content in documents.values():\n",
    "    bow_vector = [doc_content.lower().count(word) for word in vocabulary]\n",
    "    bow_vectors.append(bow_vector)\n",
    "print(\"Document Bow vectors are\", bow_vectors)\n",
    "# Convert BoW vectors to DataFrame\n",
    "bow_df = pd.DataFrame(bow_vectors, columns=vocabulary, index=documents.keys())\n",
    "print(\"Document Bow Dataframe\",bow_df)\n",
    "# Define user interests\n",
    "user_interests = {\n",
    "    'User 1': {'politics'},\n",
    "    'User 2': {'technology', 'sports'},\n",
    "    ‘User 3’: {‘entertainment’, ‘finance’}\n",
    "}\n",
    "# Create user profiles as BoW vectors\n",
    "user_profiles = {}\n",
    "for the user, interests in user_interests.items():\n",
    "    user_profile = [1 if word in interests else 0 for word in vocabulary]\n",
    "    user_profiles[user] = user_profile\n",
    "print(\"User profile bow vectors\",user_profiles)\n",
    "# Convert user profiles to DataFrame\n",
    "user_profiles_df = pd.DataFrame(user_profiles, index=vocabulary).T\n",
    "print(\"user_profiles Dataframe\",user_profiles_df)\n",
    "# Calculate cosine similarity between user profiles and documents\n",
    "similarities = cosine_similarity(user_profiles_df.values, bow_df.values)\n",
    "# Create DataFrame for similarity scores\n",
    "similarity_df = pd.DataFrame(similarities, index=user_profiles_df.index, columns=bow_df.index)\n",
    "# Recommend articles based on highest similarity scores\n",
    "recommendations = {}\n",
    "for user, row in similarity_df.iterrows():\n",
    "    recommendations[user] = similarity_df.columns[row.argmax()]\n",
    "print(\"Recommendations:\")\n",
    "for user, article in recommendations.items():\n",
    "    print(f\"{user}: {article}\")"
   ]
  },
  {
   "cell_type": "markdown",
   "metadata": {},
   "source": [
    "# Jaccab similarity"
   ]
  },
  {
   "cell_type": "code",
   "execution_count": null,
   "metadata": {},
   "outputs": [],
   "source": [
    "import numpy as np\n",
    "from sklearn.metrics import jaccard_score\n",
    "# Define the Bag of Words (BoW) vectors of documents\n",
    "bow_vectors = {\n",
    "    'Document 1': [1, 1, 1, 0, 0, 0, 0, 0],  # BoW vector for Document 1 (Politics)\n",
    "    'Document 2': [0, 1, 0, 1, 1, 0, 0, 0],  # BoW vector for Document 2 (Technology)\n",
    "    'Document 3': [0, 0, 1, 1, 0, 1, 0, 0],  # BoW vector for Document 3 (Sports)\n",
    "    'Document 4': [0, 0, 0, 0, 0, 1, 1, 1],  # BoW vector for Document 4 (Entertainment)\n",
    "    'Document 5': [0, 0, 0, 0, 1, 0, 1, 1],  # BoW vector for Document 5 (Finance)\n",
    "}\n",
    "# Convert BoW vectors to binary arrays\n",
    "binary_arrays = np.array(list(bow_vectors.values()))\n",
    "# Calculate Jaccard similarity between pairs of documents using built-in function\n",
    "jaccard_scores = {}\n",
    "for i, (doc1, bow1) in enumerate(bow_vectors.items()):\n",
    "    for j, (doc2, bow2) in enumerate(bow_vectors.items()):\n",
    "        if i != j:  # Exclude comparing a document with itself\n",
    "            jaccard_scores[(doc1, doc2)] = jaccard_score(bow1, bow2)\n",
    "# Print Jaccard similarity scores\n",
    "print(\"Jaccard Similarity Scores:\")\n",
    "for pair, score in jaccard_scores.items():\n",
    "    print(f\"{pair}: {score}\")"
   ]
  },
  {
   "cell_type": "markdown",
   "metadata": {},
   "source": [
    "# Euclidean distance"
   ]
  },
  {
   "cell_type": "code",
   "execution_count": null,
   "metadata": {},
   "outputs": [],
   "source": [
    "import numpy as np\n",
    "# Define the Bag of Words (BoW) vectors of documents\n",
    "bow_vectors = {\n",
    "    'Document 1': [1, 1, 1, 0, 0, 0, 0, 0],  # BoW vector for Document 1 (Politics)\n",
    "    'Document 2': [0, 1, 0, 1, 1, 0, 0, 0],  # BoW vector for Document 2 (Technology)\n",
    "    'Document 3': [0, 0, 1, 1, 0, 1, 0, 0],  # BoW vector for Document 3 (Sports)\n",
    "    'Document 4': [0, 0, 0, 0, 0, 1, 1, 1],  # BoW vector for Document 4 (Entertainment)\n",
    "    'Document 5': [0, 0, 0, 0, 1, 0, 1, 1],  # BoW vector for Document 5 (Finance)\n",
    "}\n",
    "# Convert BoW vectors to numpy arrays\n",
    "bow_arrays = np.array(list(bow_vectors.values()))\n",
    "# Calculate Euclidean distance between pairs of documents\n",
    "euclidean_distances = {}\n",
    "for i, (doc1, bow1) in enumerate(bow_vectors.items()):\n",
    "    for j, (doc2, bow2) in enumerate(bow_vectors.items()):\n",
    "        if i != j:  # Exclude comparing a document with itself\n",
    "            euclidean_distances[(doc1, doc2)] = np.linalg.norm(bow1 - bow2)\n",
    "# Print Euclidean distances\n",
    "print(\"Euclidean Distances:\")\n",
    "for pair, distance in euclidean_distances.items():\n",
    "    print(f\"{pair}: {distance}\")"
   ]
  }
 ],
 "metadata": {
  "language_info": {
   "name": "python"
  }
 },
 "nbformat": 4,
 "nbformat_minor": 2
}
