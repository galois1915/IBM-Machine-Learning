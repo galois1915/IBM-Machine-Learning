{
 "cells": [
  {
   "cell_type": "code",
   "execution_count": 5,
   "metadata": {},
   "outputs": [
    {
     "name": "stderr",
     "output_type": "stream",
     "text": [
      "[nltk_data] Downloading package punkt to /home/angel/nltk_data...\n",
      "[nltk_data]   Package punkt is already up-to-date!\n",
      "[nltk_data] Downloading package stopwords to /home/angel/nltk_data...\n",
      "[nltk_data]   Package stopwords is already up-to-date!\n"
     ]
    },
    {
     "data": {
      "text/plain": [
       "True"
      ]
     },
     "execution_count": 5,
     "metadata": {},
     "output_type": "execute_result"
    }
   ],
   "source": [
    "import os\n",
    "import nltk\n",
    "from nltk.corpus import stopwords\n",
    "from nltk.tokenize import word_tokenize\n",
    "from gensim.corpora import Dictionary\n",
    "nltk.download('punkt')\n",
    "nltk.download('stopwords')"
   ]
  },
  {
   "cell_type": "code",
   "execution_count": 14,
   "metadata": {},
   "outputs": [
    {
     "name": "stderr",
     "output_type": "stream",
     "text": [
      "[nltk_data] Downloading package punkt_tab to /home/angel/nltk_data...\n",
      "[nltk_data]   Unzipping tokenizers/punkt_tab.zip.\n"
     ]
    },
    {
     "data": {
      "text/plain": [
       "True"
      ]
     },
     "execution_count": 14,
     "metadata": {},
     "output_type": "execute_result"
    }
   ],
   "source": [
    "nltk.data.path.append(\"/home/angel/nltk_data...\")\n",
    "nltk.download('punkt_tab')"
   ]
  },
  {
   "cell_type": "code",
   "execution_count": 15,
   "metadata": {},
   "outputs": [],
   "source": [
    "# Sample reviews\n",
    "review1 = \"The TechTrend X1 camera captures stunning photos, but the battery life could be better. I'm very impressed with the camera quality.\"\n",
    "review2 = \"I'm disappointed with the TechTrend X1 battery life, although the camera quality is exceptional. However, the camera features are lacking.\"\n"
   ]
  },
  {
   "cell_type": "code",
   "execution_count": 17,
   "metadata": {},
   "outputs": [],
   "source": [
    "# Tokenization\n",
    "tokens1 = nltk.word_tokenize(review1)\n",
    "tokens2 = nltk.word_tokenize(review2)"
   ]
  },
  {
   "cell_type": "code",
   "execution_count": 18,
   "metadata": {},
   "outputs": [
    {
     "data": {
      "text/plain": [
       "['The',\n",
       " 'TechTrend',\n",
       " 'X1',\n",
       " 'camera',\n",
       " 'captures',\n",
       " 'stunning',\n",
       " 'photos',\n",
       " ',',\n",
       " 'but',\n",
       " 'the',\n",
       " 'battery',\n",
       " 'life',\n",
       " 'could',\n",
       " 'be',\n",
       " 'better',\n",
       " '.',\n",
       " 'I',\n",
       " \"'m\",\n",
       " 'very',\n",
       " 'impressed',\n",
       " 'with',\n",
       " 'the',\n",
       " 'camera',\n",
       " 'quality',\n",
       " '.']"
      ]
     },
     "execution_count": 18,
     "metadata": {},
     "output_type": "execute_result"
    }
   ],
   "source": [
    "tokens1"
   ]
  },
  {
   "cell_type": "code",
   "execution_count": 19,
   "metadata": {},
   "outputs": [],
   "source": [
    "# Stop word removal\n",
    "stop_words = set(stopwords.words('english'))\n",
    "filtered_tokens1 = [word for word in tokens1 if word.lower() not in stop_words]\n",
    "filtered_tokens2 = [word for word in tokens2 if word.lower() not in stop_words]"
   ]
  },
  {
   "cell_type": "code",
   "execution_count": 31,
   "metadata": {},
   "outputs": [
    {
     "name": "stdout",
     "output_type": "stream",
     "text": [
      "['TechTrend', 'X1', 'camera', 'captures', 'stunning', 'photos', ',', 'battery', 'life', 'could', 'better', '.', \"'m\", 'impressed', 'camera', 'quality', '.']\n",
      "[\"'m\", 'disappointed', 'TechTrend', 'X1', 'battery', 'life', ',', 'although', 'camera', 'quality', 'exceptional', '.', 'However', ',', 'camera', 'features', 'lacking', '.']\n"
     ]
    }
   ],
   "source": [
    "print(filtered_tokens1)\n",
    "print(filtered_tokens2)"
   ]
  },
  {
   "cell_type": "code",
   "execution_count": 36,
   "metadata": {},
   "outputs": [
    {
     "data": {
      "text/plain": [
       "21"
      ]
     },
     "execution_count": 36,
     "metadata": {},
     "output_type": "execute_result"
    }
   ],
   "source": [
    "len(set(filtered_tokens1).union(set(filtered_tokens2)))"
   ]
  },
  {
   "cell_type": "code",
   "execution_count": 22,
   "metadata": {},
   "outputs": [],
   "source": [
    "# Create dictionary\n",
    "documents = [filtered_tokens1, filtered_tokens2]\n",
    "dictionary = Dictionary(documents)"
   ]
  },
  {
   "cell_type": "code",
   "execution_count": 30,
   "metadata": {},
   "outputs": [
    {
     "data": {
      "text/plain": [
       "{\"'m\": 0,\n",
       " ',': 1,\n",
       " '.': 2,\n",
       " 'TechTrend': 3,\n",
       " 'X1': 4,\n",
       " 'battery': 5,\n",
       " 'better': 6,\n",
       " 'camera': 7,\n",
       " 'captures': 8,\n",
       " 'could': 9,\n",
       " 'impressed': 10,\n",
       " 'life': 11,\n",
       " 'photos': 12,\n",
       " 'quality': 13,\n",
       " 'stunning': 14,\n",
       " 'However': 15,\n",
       " 'although': 16,\n",
       " 'disappointed': 17,\n",
       " 'exceptional': 18,\n",
       " 'features': 19,\n",
       " 'lacking': 20}"
      ]
     },
     "execution_count": 30,
     "metadata": {},
     "output_type": "execute_result"
    }
   ],
   "source": [
    "dictionary.token2id"
   ]
  },
  {
   "cell_type": "code",
   "execution_count": 37,
   "metadata": {},
   "outputs": [],
   "source": [
    "# Generate bag-of-words vectors\n",
    "bow_vector1 = dictionary.doc2bow(filtered_tokens1)\n",
    "bow_vector2 = dictionary.doc2bow(filtered_tokens2)"
   ]
  },
  {
   "cell_type": "code",
   "execution_count": 38,
   "metadata": {},
   "outputs": [
    {
     "data": {
      "text/plain": [
       "[(0, 1),\n",
       " (1, 1),\n",
       " (2, 2),\n",
       " (3, 1),\n",
       " (4, 1),\n",
       " (5, 1),\n",
       " (6, 1),\n",
       " (7, 2),\n",
       " (8, 1),\n",
       " (9, 1),\n",
       " (10, 1),\n",
       " (11, 1),\n",
       " (12, 1),\n",
       " (13, 1),\n",
       " (14, 1)]"
      ]
     },
     "execution_count": 38,
     "metadata": {},
     "output_type": "execute_result"
    }
   ],
   "source": [
    "bow_vector1"
   ]
  },
  {
   "cell_type": "code",
   "execution_count": 39,
   "metadata": {},
   "outputs": [
    {
     "name": "stdout",
     "output_type": "stream",
     "text": [
      "Filtered Tokens 1: ['TechTrend', 'X1', 'camera', 'captures', 'stunning', 'photos', ',', 'battery', 'life', 'could', 'better', '.', \"'m\", 'impressed', 'camera', 'quality', '.']\n",
      "Filtered Tokens 2: [\"'m\", 'disappointed', 'TechTrend', 'X1', 'battery', 'life', ',', 'although', 'camera', 'quality', 'exceptional', '.', 'However', ',', 'camera', 'features', 'lacking', '.']\n",
      "Dictionary: {\"'m\": 0, ',': 1, '.': 2, 'TechTrend': 3, 'X1': 4, 'battery': 5, 'better': 6, 'camera': 7, 'captures': 8, 'could': 9, 'impressed': 10, 'life': 11, 'photos': 12, 'quality': 13, 'stunning': 14, 'However': 15, 'although': 16, 'disappointed': 17, 'exceptional': 18, 'features': 19, 'lacking': 20}\n",
      "BoW Vector 1: [(0, 1), (1, 1), (2, 2), (3, 1), (4, 1), (5, 1), (6, 1), (7, 2), (8, 1), (9, 1), (10, 1), (11, 1), (12, 1), (13, 1), (14, 1)]\n",
      "BoW Vector 2: [(0, 1), (1, 2), (2, 2), (3, 1), (4, 1), (5, 1), (7, 2), (11, 1), (13, 1), (15, 1), (16, 1), (17, 1), (18, 1), (19, 1), (20, 1)]\n"
     ]
    }
   ],
   "source": [
    "# Print results\n",
    "print(\"Filtered Tokens 1:\", filtered_tokens1)\n",
    "print(\"Filtered Tokens 2:\", filtered_tokens2)\n",
    "print(\"Dictionary:\", dictionary.token2id)\n",
    "print(\"BoW Vector 1:\", bow_vector1)\n",
    "print(\"BoW Vector 2:\", bow_vector2)"
   ]
  }
 ],
 "metadata": {
  "kernelspec": {
   "display_name": ".env",
   "language": "python",
   "name": "python3"
  },
  "language_info": {
   "codemirror_mode": {
    "name": "ipython",
    "version": 3
   },
   "file_extension": ".py",
   "mimetype": "text/x-python",
   "name": "python",
   "nbconvert_exporter": "python",
   "pygments_lexer": "ipython3",
   "version": "3.10.12"
  }
 },
 "nbformat": 4,
 "nbformat_minor": 2
}
