{
 "cells": [
  {
   "cell_type": "code",
   "execution_count": 9,
   "metadata": {},
   "outputs": [
    {
     "name": "stdout",
     "output_type": "stream",
     "text": [
      "The gradio extension is already loaded. To reload it, use:\n",
      "  %reload_ext gradio\n"
     ]
    },
    {
     "data": {
      "text/plain": [
       "Gradio Interface for: greet\n",
       "---------------------------\n",
       "inputs:\n",
       "|-<gradio.components.number.Number object at 0x7f12c47113c0>\n",
       "|-<gradio.components.number.Number object at 0x7f12c4712950>\n",
       "|-<gradio.components.number.Number object at 0x7f12c479f0d0>\n",
       "|-<gradio.components.number.Number object at 0x7f12c479f160>\n",
       "|-<gradio.components.number.Number object at 0x7f12c479e740>\n",
       "|-<gradio.components.number.Number object at 0x7f12c479f970>\n",
       "|-<gradio.components.number.Number object at 0x7f12c479e980>\n",
       "|-<gradio.components.dropdown.Dropdown object at 0x7f12c49207f0>\n",
       "outputs:\n",
       "|-<gradio.components.label.Label object at 0x7f12defd0e20>"
      ]
     },
     "execution_count": 9,
     "metadata": {},
     "output_type": "execute_result"
    }
   ],
   "source": [
    "import tqdm as notebook_tqdm\n",
    "import gradio as gr\n",
    "import pickle\n",
    "import numpy as np\n",
    "\n",
    "# load model\n",
    "loaded_model = pickle.load(open('model_lr.pkl', 'rb'))\n",
    "#result = loaded_model.score(X_test, Y_test)\n",
    "#print(result)\n",
    "classes = ['Apple','Banana', 'Blackgram', 'ChickPea', 'Coconut', 'Coffee', 'Cotton', 'Grapes',\n",
    "           'Jute', 'KidneyBeans', 'Lentil', 'Maize', 'Mango', 'MothBeans', 'MungBean', 'Muskmelon',\n",
    "           'Orange', 'Papaya', 'PigeonPeas', 'Pomegranate', 'Rice', 'Watermelon']\n",
    "\n",
    "value = np.linspace(0,1,len(classes))\n",
    "\n",
    "def greet(Nitrogen,Phosphorus,Potassium,Temperature,Humidity,pH_Value,Rainfall,Crop):\n",
    "    return {classes[i]: value[i] for i in range(len(classes))}\n",
    "%load_ext gradio\n",
    "\n",
    "demo = gr.Interface(\n",
    "    fn=greet,\n",
    "    inputs=[\"number\",\"number\",\n",
    "            \"number\",\"number\",\n",
    "            \"number\",\"number\",\"number\",\n",
    "            gr.Dropdown([\"cat\", \"dog\", \"bird\"], label=\"Animal\", info=\"Will add more animals later!\")\n",
    "            ],\n",
    "    outputs=gr.Label(num_top_classes=10),\n",
    "    title=\"Crop recommendation\",\n",
    "    description=\"Best crop for this type of soil!\"\n",
    ")\n",
    "demo"
   ]
  }
 ],
 "metadata": {
  "kernelspec": {
   "display_name": ".env",
   "language": "python",
   "name": "python3"
  },
  "language_info": {
   "codemirror_mode": {
    "name": "ipython",
    "version": 3
   },
   "file_extension": ".py",
   "mimetype": "text/x-python",
   "name": "python",
   "nbconvert_exporter": "python",
   "pygments_lexer": "ipython3",
   "version": "3.10.12"
  }
 },
 "nbformat": 4,
 "nbformat_minor": 2
}
